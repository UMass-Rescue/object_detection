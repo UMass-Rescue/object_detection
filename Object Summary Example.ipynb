{
 "cells": [
  {
   "cell_type": "code",
   "execution_count": 2,
   "metadata": {
    "ExecuteTime": {
     "end_time": "2020-02-07T01:18:27.541227Z",
     "start_time": "2020-02-07T01:18:26.189610Z"
    }
   },
   "outputs": [
    {
     "name": "stderr",
     "output_type": "stream",
     "text": [
      "/home/prasannals/anaconda3/envs/tf_obj/lib/python3.6/site-packages/tensorflow/python/framework/dtypes.py:523: FutureWarning: Passing (type, 1) or '1type' as a synonym of type is deprecated; in a future version of numpy, it will be understood as (type, (1,)) / '(1,)type'.\n",
      "  _np_qint8 = np.dtype([(\"qint8\", np.int8, 1)])\n",
      "/home/prasannals/anaconda3/envs/tf_obj/lib/python3.6/site-packages/tensorflow/python/framework/dtypes.py:524: FutureWarning: Passing (type, 1) or '1type' as a synonym of type is deprecated; in a future version of numpy, it will be understood as (type, (1,)) / '(1,)type'.\n",
      "  _np_quint8 = np.dtype([(\"quint8\", np.uint8, 1)])\n",
      "/home/prasannals/anaconda3/envs/tf_obj/lib/python3.6/site-packages/tensorflow/python/framework/dtypes.py:525: FutureWarning: Passing (type, 1) or '1type' as a synonym of type is deprecated; in a future version of numpy, it will be understood as (type, (1,)) / '(1,)type'.\n",
      "  _np_qint16 = np.dtype([(\"qint16\", np.int16, 1)])\n",
      "/home/prasannals/anaconda3/envs/tf_obj/lib/python3.6/site-packages/tensorflow/python/framework/dtypes.py:526: FutureWarning: Passing (type, 1) or '1type' as a synonym of type is deprecated; in a future version of numpy, it will be understood as (type, (1,)) / '(1,)type'.\n",
      "  _np_quint16 = np.dtype([(\"quint16\", np.uint16, 1)])\n",
      "/home/prasannals/anaconda3/envs/tf_obj/lib/python3.6/site-packages/tensorflow/python/framework/dtypes.py:527: FutureWarning: Passing (type, 1) or '1type' as a synonym of type is deprecated; in a future version of numpy, it will be understood as (type, (1,)) / '(1,)type'.\n",
      "  _np_qint32 = np.dtype([(\"qint32\", np.int32, 1)])\n",
      "/home/prasannals/anaconda3/envs/tf_obj/lib/python3.6/site-packages/tensorflow/python/framework/dtypes.py:532: FutureWarning: Passing (type, 1) or '1type' as a synonym of type is deprecated; in a future version of numpy, it will be understood as (type, (1,)) / '(1,)type'.\n",
      "  np_resource = np.dtype([(\"resource\", np.ubyte, 1)])\n"
     ]
    }
   ],
   "source": [
    "from pathlib import Path\n",
    "from object_summary import clf_folders_to_df, load_faster_rcnn_open_images, objects_in_categories, dump_to_json_file, read_json_from_file"
   ]
  },
  {
   "cell_type": "code",
   "execution_count": 5,
   "metadata": {
    "ExecuteTime": {
     "end_time": "2020-02-07T01:20:43.048305Z",
     "start_time": "2020-02-07T01:20:35.369240Z"
    }
   },
   "outputs": [],
   "source": [
    "path = Path('data/messy_vs_clean/sample/')\n",
    "out_path = Path('out/messy_or_clean/train')\n",
    "out_path.mkdir(exist_ok=True)\n",
    "path_df = clf_folders_to_df(path)\n",
    "inf = load_faster_rcnn_open_images()"
   ]
  },
  {
   "cell_type": "code",
   "execution_count": 6,
   "metadata": {
    "ExecuteTime": {
     "end_time": "2020-02-07T01:20:46.527042Z",
     "start_time": "2020-02-07T01:20:46.506042Z"
    }
   },
   "outputs": [
    {
     "data": {
      "text/html": [
       "<div>\n",
       "<style scoped>\n",
       "    .dataframe tbody tr th:only-of-type {\n",
       "        vertical-align: middle;\n",
       "    }\n",
       "\n",
       "    .dataframe tbody tr th {\n",
       "        vertical-align: top;\n",
       "    }\n",
       "\n",
       "    .dataframe thead th {\n",
       "        text-align: right;\n",
       "    }\n",
       "</style>\n",
       "<table border=\"1\" class=\"dataframe\">\n",
       "  <thead>\n",
       "    <tr style=\"text-align: right;\">\n",
       "      <th></th>\n",
       "      <th>path</th>\n",
       "      <th>category</th>\n",
       "    </tr>\n",
       "  </thead>\n",
       "  <tbody>\n",
       "    <tr>\n",
       "      <th>0</th>\n",
       "      <td>/home/prasannals/object_detection/data/messy_v...</td>\n",
       "      <td>messy</td>\n",
       "    </tr>\n",
       "    <tr>\n",
       "      <th>1</th>\n",
       "      <td>/home/prasannals/object_detection/data/messy_v...</td>\n",
       "      <td>messy</td>\n",
       "    </tr>\n",
       "    <tr>\n",
       "      <th>2</th>\n",
       "      <td>/home/prasannals/object_detection/data/messy_v...</td>\n",
       "      <td>clean</td>\n",
       "    </tr>\n",
       "    <tr>\n",
       "      <th>3</th>\n",
       "      <td>/home/prasannals/object_detection/data/messy_v...</td>\n",
       "      <td>clean</td>\n",
       "    </tr>\n",
       "  </tbody>\n",
       "</table>\n",
       "</div>"
      ],
      "text/plain": [
       "                                                path category\n",
       "0  /home/prasannals/object_detection/data/messy_v...    messy\n",
       "1  /home/prasannals/object_detection/data/messy_v...    messy\n",
       "2  /home/prasannals/object_detection/data/messy_v...    clean\n",
       "3  /home/prasannals/object_detection/data/messy_v...    clean"
      ]
     },
     "execution_count": 6,
     "metadata": {},
     "output_type": "execute_result"
    }
   ],
   "source": [
    "path_df"
   ]
  },
  {
   "cell_type": "code",
   "execution_count": 7,
   "metadata": {
    "ExecuteTime": {
     "end_time": "2020-02-07T01:22:26.874410Z",
     "start_time": "2020-02-07T01:20:56.740695Z"
    }
   },
   "outputs": [],
   "source": [
    "res = objects_in_categories(path_df, inf, out_path, visualize=True)"
   ]
  },
  {
   "cell_type": "code",
   "execution_count": 8,
   "metadata": {
    "ExecuteTime": {
     "end_time": "2020-02-07T01:24:22.509953Z",
     "start_time": "2020-02-07T01:24:22.499338Z"
    }
   },
   "outputs": [
    {
     "data": {
      "text/plain": [
       "[{'num_detections': 3,\n",
       "  'detection_boxes': array([[0.4943505 , 0.02411443, 0.97711736, 0.98587483],\n",
       "         [0.55433404, 0.53955257, 0.95111495, 1.        ],\n",
       "         [0.        , 0.        , 0.97139937, 1.        ]], dtype=float32),\n",
       "  'detection_scores': array([0.53457475, 0.40630728, 0.35909048], dtype=float32),\n",
       "  'detection_classes': array([281, 281, 241]),\n",
       "  'detection_classes_translated': ['Table', 'Table', 'House'],\n",
       "  'file': '/home/prasannals/object_detection/data/messy_vs_clean/sample/messy/1.png',\n",
       "  'category': 'messy'},\n",
       " {'num_detections': 7,\n",
       "  'detection_boxes': array([[0.7609224 , 0.3150605 , 0.85431635, 0.5145363 ],\n",
       "         [0.7031163 , 0.7674437 , 0.9546674 , 0.97680485],\n",
       "         [0.3971984 , 0.39140877, 0.78039175, 0.87248975],\n",
       "         [0.6339927 , 0.4408361 , 0.718982  , 0.5389727 ],\n",
       "         [0.3982816 , 0.36795622, 0.78282356, 0.89854115],\n",
       "         [0.18970142, 0.41172493, 0.6037267 , 0.99575037],\n",
       "         [0.22396119, 0.00430926, 0.7286407 , 0.460847  ]], dtype=float32),\n",
       "  'detection_scores': array([0.77621233, 0.6369006 , 0.63451296, 0.63212955, 0.46546778,\n",
       "         0.43773025, 0.3664368 ], dtype=float32),\n",
       "  'detection_classes': array([ 11, 136, 378,  11, 281, 141, 154]),\n",
       "  'detection_classes_translated': ['Toy',\n",
       "   'Box',\n",
       "   'Coffee table',\n",
       "   'Toy',\n",
       "   'Table',\n",
       "   'Studio couch',\n",
       "   'Couch'],\n",
       "  'file': '/home/prasannals/object_detection/data/messy_vs_clean/sample/messy/0.png',\n",
       "  'category': 'messy'},\n",
       " {'num_detections': 6,\n",
       "  'detection_boxes': array([[0.3448284 , 0.02153666, 0.70484406, 0.9774929 ],\n",
       "         [0.37383267, 0.34502256, 0.49231553, 0.44351768],\n",
       "         [0.34700227, 0.00582944, 0.7138031 , 0.616206  ],\n",
       "         [0.09474621, 0.6073878 , 0.1480789 , 0.65687   ],\n",
       "         [0.        , 0.        , 0.8563262 , 1.        ],\n",
       "         [0.35022584, 0.02137634, 0.72153914, 1.        ]], dtype=float32),\n",
       "  'detection_scores': array([0.50714445, 0.35876545, 0.3512839 , 0.32265773, 0.31847778,\n",
       "         0.3069023 ], dtype=float32),\n",
       "  'detection_classes': array([141, 220, 141, 433, 241, 246]),\n",
       "  'detection_classes_translated': ['Studio couch',\n",
       "   'Pillow',\n",
       "   'Studio couch',\n",
       "   'Clothing',\n",
       "   'House',\n",
       "   'Sofa bed'],\n",
       "  'file': '/home/prasannals/object_detection/data/messy_vs_clean/sample/clean/1.png',\n",
       "  'category': 'clean'},\n",
       " {'num_detections': 15,\n",
       "  'detection_boxes': array([[0.49800172, 0.04032   , 0.9762016 , 0.5954145 ],\n",
       "         [0.45708153, 0.15683581, 0.974393  , 0.9703107 ],\n",
       "         [0.501738  , 0.        , 0.78900695, 0.5928752 ],\n",
       "         [0.5288273 , 0.02020986, 0.72465944, 0.5465637 ],\n",
       "         [0.56253165, 0.77168715, 0.9999395 , 1.        ],\n",
       "         [0.01966324, 0.        , 0.9408873 , 1.        ],\n",
       "         [0.2945071 , 0.15749401, 0.39479592, 0.34123647],\n",
       "         [0.5282034 , 0.53423595, 0.9753131 , 0.9908345 ],\n",
       "         [0.0810276 , 0.06742437, 0.4056963 , 0.7526625 ],\n",
       "         [0.14585944, 0.78573424, 0.47268137, 0.9852464 ],\n",
       "         [0.6017494 , 0.62919   , 0.864477  , 0.7912918 ],\n",
       "         [0.08620383, 0.03240003, 0.43307573, 0.75768065],\n",
       "         [0.28807637, 0.1530516 , 0.40085354, 0.3500024 ],\n",
       "         [0.3791279 , 0.00801664, 0.9852703 , 0.722191  ],\n",
       "         [0.4888789 , 0.52991986, 0.9679053 , 1.        ]], dtype=float32),\n",
       "  'detection_scores': array([0.78175557, 0.68534   , 0.6548934 , 0.63346773, 0.633042  ,\n",
       "         0.6277343 , 0.5592631 , 0.52605504, 0.505026  , 0.41089433,\n",
       "         0.39746186, 0.37637213, 0.36292478, 0.3271736 , 0.31697857],\n",
       "        dtype=float32),\n",
       "  'detection_classes': array([442, 442, 442, 442, 107, 241, 151, 107, 107, 485, 107, 345, 523,\n",
       "         107, 442]),\n",
       "  'detection_classes_translated': ['Countertop',\n",
       "   'Countertop',\n",
       "   'Countertop',\n",
       "   'Countertop',\n",
       "   'Cabinetry',\n",
       "   'House',\n",
       "   'Oven',\n",
       "   'Cabinetry',\n",
       "   'Cabinetry',\n",
       "   'Window',\n",
       "   'Cabinetry',\n",
       "   'Cupboard',\n",
       "   'Microwave oven',\n",
       "   'Cabinetry',\n",
       "   'Countertop'],\n",
       "  'file': '/home/prasannals/object_detection/data/messy_vs_clean/sample/clean/0.png',\n",
       "  'category': 'clean'}]"
      ]
     },
     "execution_count": 8,
     "metadata": {},
     "output_type": "execute_result"
    }
   ],
   "source": [
    "res"
   ]
  },
  {
   "cell_type": "code",
   "execution_count": 9,
   "metadata": {
    "ExecuteTime": {
     "end_time": "2020-02-07T01:24:49.690844Z",
     "start_time": "2020-02-07T01:24:49.686318Z"
    }
   },
   "outputs": [],
   "source": [
    "dump_to_json_file(res, Path('out/messy_or_clean_res_valid.json'))"
   ]
  },
  {
   "cell_type": "code",
   "execution_count": null,
   "metadata": {},
   "outputs": [],
   "source": []
  },
  {
   "cell_type": "code",
   "execution_count": null,
   "metadata": {},
   "outputs": [],
   "source": []
  }
 ],
 "metadata": {
  "file_extension": ".py",
  "kernelspec": {
   "display_name": "Python 3",
   "language": "python",
   "name": "python3"
  },
  "language_info": {
   "codemirror_mode": {
    "name": "ipython",
    "version": 3
   },
   "file_extension": ".py",
   "mimetype": "text/x-python",
   "name": "python",
   "nbconvert_exporter": "python",
   "pygments_lexer": "ipython3",
   "version": "3.6.10"
  },
  "mimetype": "text/x-python",
  "name": "python",
  "npconvert_exporter": "python",
  "pygments_lexer": "ipython3",
  "version": 3
 },
 "nbformat": 4,
 "nbformat_minor": 2
}

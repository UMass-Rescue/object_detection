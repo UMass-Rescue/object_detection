{
 "nbformat": 4,
 "nbformat_minor": 2,
 "metadata": {
  "language_info": {
   "name": "python",
   "codemirror_mode": {
    "name": "ipython",
    "version": 3
   },
   "version": "3.6.10-final"
  },
  "orig_nbformat": 2,
  "file_extension": ".py",
  "mimetype": "text/x-python",
  "name": "python",
  "npconvert_exporter": "python",
  "pygments_lexer": "ipython3",
  "version": 3,
  "kernelspec": {
   "name": "python361064bittfobjconda3497c33601fe438a97b2a34d91f48b5e",
   "display_name": "Python 3.6.10 64-bit ('tf_obj': conda)"
  }
 },
 "cells": [
  {
   "cell_type": "code",
   "execution_count": 1,
   "metadata": {},
   "outputs": [
    {
     "name": "stderr",
     "output_type": "stream",
     "text": "/home/prasannals/anaconda3/envs/tf_obj/lib/python3.6/site-packages/tensorflow/python/framework/dtypes.py:523: FutureWarning: Passing (type, 1) or '1type' as a synonym of type is deprecated; in a future version of numpy, it will be understood as (type, (1,)) / '(1,)type'.\n  _np_qint8 = np.dtype([(\"qint8\", np.int8, 1)])\n/home/prasannals/anaconda3/envs/tf_obj/lib/python3.6/site-packages/tensorflow/python/framework/dtypes.py:524: FutureWarning: Passing (type, 1) or '1type' as a synonym of type is deprecated; in a future version of numpy, it will be understood as (type, (1,)) / '(1,)type'.\n  _np_quint8 = np.dtype([(\"quint8\", np.uint8, 1)])\n/home/prasannals/anaconda3/envs/tf_obj/lib/python3.6/site-packages/tensorflow/python/framework/dtypes.py:525: FutureWarning: Passing (type, 1) or '1type' as a synonym of type is deprecated; in a future version of numpy, it will be understood as (type, (1,)) / '(1,)type'.\n  _np_qint16 = np.dtype([(\"qint16\", np.int16, 1)])\n/home/prasannals/anaconda3/envs/tf_obj/lib/python3.6/site-packages/tensorflow/python/framework/dtypes.py:526: FutureWarning: Passing (type, 1) or '1type' as a synonym of type is deprecated; in a future version of numpy, it will be understood as (type, (1,)) / '(1,)type'.\n  _np_quint16 = np.dtype([(\"quint16\", np.uint16, 1)])\n/home/prasannals/anaconda3/envs/tf_obj/lib/python3.6/site-packages/tensorflow/python/framework/dtypes.py:527: FutureWarning: Passing (type, 1) or '1type' as a synonym of type is deprecated; in a future version of numpy, it will be understood as (type, (1,)) / '(1,)type'.\n  _np_qint32 = np.dtype([(\"qint32\", np.int32, 1)])\n/home/prasannals/anaconda3/envs/tf_obj/lib/python3.6/site-packages/tensorflow/python/framework/dtypes.py:532: FutureWarning: Passing (type, 1) or '1type' as a synonym of type is deprecated; in a future version of numpy, it will be understood as (type, (1,)) / '(1,)type'.\n  np_resource = np.dtype([(\"resource\", np.ubyte, 1)])\n"
    }
   ],
   "source": [
    "from training_api import train"
   ]
  },
  {
   "cell_type": "code",
   "execution_count": 2,
   "metadata": {},
   "outputs": [],
   "source": [
    "\n",
    "def trainObjDetectorTest():\n",
    "    trainDir = '/home/prasannals/Downloads/handsup/raw/'\n",
    "    predictDir = 'trial'\n",
    "    fineTunedModelPath = '/home/prasannals/models/research/object_detection/ssd_mobilenet_v1_coco_2018_01_28/model.ckpt'\n",
    "    tfObjectDetFolder = '/home/prasannals/models/research/object_detection'\n",
    "    # o.labelObjects(trainDir, predictDir, fineTunedModelPath, tfObjectDetFolder)\n",
    "    train(trainDir, fineTunedModelPath, tfObjectDetFolder, destn=predictDir)"
   ]
  },
  {
   "cell_type": "code",
   "execution_count": 3,
   "metadata": {},
   "outputs": [
    {
     "name": "stdout",
     "output_type": "stream",
     "text": "Copied 407 training files\nCopied 102 test files\nSuccessfully created the TFRecords: trial/train.record\nSuccessfully created the TFRecords: trial/valid.record\nFor training (from the object_detection/legacy directory) :\npython /home/prasannals/models/research/object_detection/legacy/train.py --logtostderr --train_dir=/home/prasannals/object_detection/tf_object_detection_api/trial/trainOutput --pipeline_config_path=/home/prasannals/object_detection/tf_object_detection_api/trial/ssd_mobilenet_v1.config\n\nTo generate inference graph (after training) (from the object_detection directory) :\npython /home/prasannals/models/research/object_detection/export_inference_graph.py --input_type image_tensor --pipeline_config_path /home/prasannals/object_detection/tf_object_detection_api/trial/ssd_mobilenet_v1.config --trained_checkpoint_prefix /home/prasannals/object_detection/tf_object_detection_api/trial/trainOutput/YOUR_MODEL_FILE --output_directory /home/prasannals/object_detection/tf_object_detection_api/trial/inference_graph\nTraining done\nInference graph written to trial/inference_graph\nTraining command used - \npython /home/prasannals/models/research/object_detection/legacy/train.py --logtostderr --train_dir=/home/prasannals/object_detection/tf_object_detection_api/trial/trainOutput --pipeline_config_path=/home/prasannals/object_detection/tf_object_detection_api/trial/ssd_mobilenet_v1.config\nInference command used - \npython /home/prasannals/models/research/object_detection/export_inference_graph.py --input_type image_tensor --pipeline_config_path /home/prasannals/object_detection/tf_object_detection_api/trial/ssd_mobilenet_v1.config --trained_checkpoint_prefix /home/prasannals/object_detection/tf_object_detection_api/trial/trainOutput/model.ckpt-3902 --output_directory /home/prasannals/object_detection/tf_object_detection_api/trial/inference_graph\n"
    }
   ],
   "source": [
    "trainObjDetectorTest()"
   ]
  },
  {
   "cell_type": "code",
   "execution_count": null,
   "metadata": {},
   "outputs": [],
   "source": []
  }
 ]
}